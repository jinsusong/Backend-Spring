{
  "nbformat": 4,
  "nbformat_minor": 0,
  "metadata": {
    "colab": {
      "private_outputs": true,
      "provenance": [],
      "authorship_tag": "ABX9TyNCULfQMWgousFAuGA3luPr",
      "include_colab_link": true
    },
    "kernelspec": {
      "name": "python3",
      "display_name": "Python 3"
    },
    "language_info": {
      "name": "python"
    }
  },
  "cells": [
    {
      "cell_type": "markdown",
      "metadata": {
        "id": "view-in-github",
        "colab_type": "text"
      },
      "source": [
        "<a href=\"https://colab.research.google.com/github/jinsusong/Backend-Spring/blob/main/%EC%9D%B8%ED%94%84%EB%9F%B0/%EC%8A%A4%ED%94%84%EB%A7%81.ipynb\" target=\"_parent\"><img src=\"https://colab.research.google.com/assets/colab-badge.svg\" alt=\"Open In Colab\"/></a>"
      ]
    },
    {
      "cell_type": "markdown",
      "source": [
        "# 스프링 빈 조회 \n"
      ],
      "metadata": {
        "id": "gLtrI8j1a1Vo"
      }
    },
    {
      "cell_type": "markdown",
      "source": [
        "- 스프링 빈 조회 - 상속관계 \n",
        "- 부모 타입으로 조회하면, 자식 타입도 함께 조회한다. \n",
        "- 그래서 모든 자바 객체의 최고 부모인 'Object' 타입으로 조회하면, 모든 스프링 빈을 조회한다. \n",
        "\n"
      ],
      "metadata": {
        "id": "BmY85p1Oa6A7"
      }
    }
  ]
}